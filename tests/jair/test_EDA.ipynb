import pandas as pd

# Assuming you have a DataFrame named 'df' with a column named 'title'

def clean_sentence(sentence):
    # Your code to clean the sentence goes here
    pass

# Test the function on the first 10 entries of df['title']
for i, sentence in enumerate(df['title'].head(10)):
    cleaned_sentence = clean_sentence(sentence)
    print(f"Original Sentence: {sentence}")
    print(f"Cleaned Sentence: {cleaned_sentence}")
    print()